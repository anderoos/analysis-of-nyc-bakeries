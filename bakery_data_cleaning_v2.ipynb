{
 "cells": [
  {
   "cell_type": "markdown",
   "id": "fa505ade-d7e7-4782-aa16-8c4192b12d64",
   "metadata": {},
   "source": [
    "# What is the best place to open a moderately priced, fast casual asian dessert spot in NYC?\n",
    "### Considerations\n",
    "* Where are all bakeries primarily aggregated?\n",
    "* Using review count as a measure of success, does their price point affect the amount of reviews they recieve?\n",
    "* Does the number/type of categories these businesses put on their profile affect their review_count?\n",
    "* Integrate census data, how does median income affect these parameters?\n",
    "    * Business 'success' using review_count (see if I can find out information for how long they've been open, take the average rev/year)\n",
    "    * How income, price, success and location relate to eachother\n",
    "  "
   ]
  },
  {
   "cell_type": "code",
   "execution_count": 19,
   "id": "81cbde39",
   "metadata": {
    "ExecuteTime": {
     "end_time": "2023-10-20T19:09:18.668988Z",
     "start_time": "2023-10-20T19:09:18.637297Z"
    }
   },
   "outputs": [],
   "source": [
    "# Import dependencies\n",
    "import pandas as pd\n",
    "import glob\n",
    "import warnings\n",
    "\n",
    "warnings.filterwarnings('ignore')"
   ]
  },
  {
   "cell_type": "code",
   "execution_count": 20,
   "outputs": [
    {
     "data": {
      "text/plain": "                       id                            alias  \\\n0  epvSBt9LldIgyc08f8nIAw  la-bicyclette-bakery-brooklyn-4   \n1  -k_5NsYnKCHGTdBaqegkrw              le-fournil-new-york   \n2  0kW0112jMERVjpRzWT4F7Q  la-bicyclette-bakery-brooklyn-3   \n3  XSwagBljEsxG2i1rq4GEAQ        almondine-bakery-brooklyn   \n4  fPQ2eE9lm8tc87O5-GLjyA  mille-feuille-bakery-new-york-3   \n\n                   name                                          image_url  \\\n0  La Bicyclette Bakery  https://s3-media2.fl.yelpcdn.com/bphoto/aPBPM3...   \n1            Le Fournil  https://s3-media2.fl.yelpcdn.com/bphoto/JxNmFc...   \n2  La Bicyclette Bakery  https://s3-media3.fl.yelpcdn.com/bphoto/_qCjVd...   \n3      Almondine Bakery  https://s3-media2.fl.yelpcdn.com/bphoto/n_j7ya...   \n4  Mille-Feuille Bakery  https://s3-media1.fl.yelpcdn.com/bphoto/HHm3mm...   \n\n  is_closed                                                url  review_count  \\\n0     False  https://www.yelp.com/biz/la-bicyclette-bakery-...             3   \n1     False  https://www.yelp.com/biz/le-fournil-new-york?a...           118   \n2     False  https://www.yelp.com/biz/la-bicyclette-bakery-...            84   \n3     False  https://www.yelp.com/biz/almondine-bakery-broo...           404   \n4     False  https://www.yelp.com/biz/mille-feuille-bakery-...           441   \n\n                                          categories  rating  \\\n0       [{'alias': 'bakeries', 'title': 'Bakeries'}]     4.5   \n1       [{'alias': 'bakeries', 'title': 'Bakeries'}]     4.5   \n2       [{'alias': 'bakeries', 'title': 'Bakeries'}]     5.0   \n3       [{'alias': 'bakeries', 'title': 'Bakeries'}]     4.0   \n4  [{'alias': 'coffee', 'title': 'Coffee & Tea'},...     4.5   \n\n                                         coordinates            transactions  \\\n0  {'latitude': 40.68358704921419, 'longitude': -...                      []   \n1   {'latitude': 40.727947, 'longitude': -73.988489}            ['delivery']   \n2  {'latitude': 40.714400045936806, 'longitude': ...            ['delivery']   \n3  {'latitude': 40.7033174, 'longitude': -73.9912...            ['delivery']   \n4  {'latitude': 40.782425, 'longitude': -73.9811603}  ['delivery', 'pickup']   \n\n                                            location         phone  \\\n0  {'address1': '305 Court St', 'address2': '', '...           NaN   \n1  {'address1': '115 2nd Ave', 'address2': '', 'a...           NaN   \n2  {'address1': '667 Driggs Ave', 'address2': Non...  1.347916e+10   \n3  {'address1': '85 Water St', 'address2': None, ...  1.718798e+10   \n4  {'address1': '2175 Broadway', 'address2': '', ...  1.212363e+10   \n\n    display_phone     distance price  Unnamed: 0 category  coord_lat  \\\n0             NaN  2431.404071   NaN         NaN      NaN        NaN   \n1             NaN  2548.470477    $$         NaN      NaN        NaN   \n2  (347) 916-1417  3128.240171   NaN         NaN      NaN        NaN   \n3  (718) 797-5026   348.916339    $$         NaN      NaN        NaN   \n4  (212) 362-6261  8630.996628    $$         NaN      NaN        NaN   \n\n   coord_long  \n0         NaN  \n1         NaN  \n2         NaN  \n3         NaN  \n4         NaN  ",
      "text/html": "<div>\n<style scoped>\n    .dataframe tbody tr th:only-of-type {\n        vertical-align: middle;\n    }\n\n    .dataframe tbody tr th {\n        vertical-align: top;\n    }\n\n    .dataframe thead th {\n        text-align: right;\n    }\n</style>\n<table border=\"1\" class=\"dataframe\">\n  <thead>\n    <tr style=\"text-align: right;\">\n      <th></th>\n      <th>id</th>\n      <th>alias</th>\n      <th>name</th>\n      <th>image_url</th>\n      <th>is_closed</th>\n      <th>url</th>\n      <th>review_count</th>\n      <th>categories</th>\n      <th>rating</th>\n      <th>coordinates</th>\n      <th>transactions</th>\n      <th>location</th>\n      <th>phone</th>\n      <th>display_phone</th>\n      <th>distance</th>\n      <th>price</th>\n      <th>Unnamed: 0</th>\n      <th>category</th>\n      <th>coord_lat</th>\n      <th>coord_long</th>\n    </tr>\n  </thead>\n  <tbody>\n    <tr>\n      <th>0</th>\n      <td>epvSBt9LldIgyc08f8nIAw</td>\n      <td>la-bicyclette-bakery-brooklyn-4</td>\n      <td>La Bicyclette Bakery</td>\n      <td>https://s3-media2.fl.yelpcdn.com/bphoto/aPBPM3...</td>\n      <td>False</td>\n      <td>https://www.yelp.com/biz/la-bicyclette-bakery-...</td>\n      <td>3</td>\n      <td>[{'alias': 'bakeries', 'title': 'Bakeries'}]</td>\n      <td>4.5</td>\n      <td>{'latitude': 40.68358704921419, 'longitude': -...</td>\n      <td>[]</td>\n      <td>{'address1': '305 Court St', 'address2': '', '...</td>\n      <td>NaN</td>\n      <td>NaN</td>\n      <td>2431.404071</td>\n      <td>NaN</td>\n      <td>NaN</td>\n      <td>NaN</td>\n      <td>NaN</td>\n      <td>NaN</td>\n    </tr>\n    <tr>\n      <th>1</th>\n      <td>-k_5NsYnKCHGTdBaqegkrw</td>\n      <td>le-fournil-new-york</td>\n      <td>Le Fournil</td>\n      <td>https://s3-media2.fl.yelpcdn.com/bphoto/JxNmFc...</td>\n      <td>False</td>\n      <td>https://www.yelp.com/biz/le-fournil-new-york?a...</td>\n      <td>118</td>\n      <td>[{'alias': 'bakeries', 'title': 'Bakeries'}]</td>\n      <td>4.5</td>\n      <td>{'latitude': 40.727947, 'longitude': -73.988489}</td>\n      <td>['delivery']</td>\n      <td>{'address1': '115 2nd Ave', 'address2': '', 'a...</td>\n      <td>NaN</td>\n      <td>NaN</td>\n      <td>2548.470477</td>\n      <td>$$</td>\n      <td>NaN</td>\n      <td>NaN</td>\n      <td>NaN</td>\n      <td>NaN</td>\n    </tr>\n    <tr>\n      <th>2</th>\n      <td>0kW0112jMERVjpRzWT4F7Q</td>\n      <td>la-bicyclette-bakery-brooklyn-3</td>\n      <td>La Bicyclette Bakery</td>\n      <td>https://s3-media3.fl.yelpcdn.com/bphoto/_qCjVd...</td>\n      <td>False</td>\n      <td>https://www.yelp.com/biz/la-bicyclette-bakery-...</td>\n      <td>84</td>\n      <td>[{'alias': 'bakeries', 'title': 'Bakeries'}]</td>\n      <td>5.0</td>\n      <td>{'latitude': 40.714400045936806, 'longitude': ...</td>\n      <td>['delivery']</td>\n      <td>{'address1': '667 Driggs Ave', 'address2': Non...</td>\n      <td>1.347916e+10</td>\n      <td>(347) 916-1417</td>\n      <td>3128.240171</td>\n      <td>NaN</td>\n      <td>NaN</td>\n      <td>NaN</td>\n      <td>NaN</td>\n      <td>NaN</td>\n    </tr>\n    <tr>\n      <th>3</th>\n      <td>XSwagBljEsxG2i1rq4GEAQ</td>\n      <td>almondine-bakery-brooklyn</td>\n      <td>Almondine Bakery</td>\n      <td>https://s3-media2.fl.yelpcdn.com/bphoto/n_j7ya...</td>\n      <td>False</td>\n      <td>https://www.yelp.com/biz/almondine-bakery-broo...</td>\n      <td>404</td>\n      <td>[{'alias': 'bakeries', 'title': 'Bakeries'}]</td>\n      <td>4.0</td>\n      <td>{'latitude': 40.7033174, 'longitude': -73.9912...</td>\n      <td>['delivery']</td>\n      <td>{'address1': '85 Water St', 'address2': None, ...</td>\n      <td>1.718798e+10</td>\n      <td>(718) 797-5026</td>\n      <td>348.916339</td>\n      <td>$$</td>\n      <td>NaN</td>\n      <td>NaN</td>\n      <td>NaN</td>\n      <td>NaN</td>\n    </tr>\n    <tr>\n      <th>4</th>\n      <td>fPQ2eE9lm8tc87O5-GLjyA</td>\n      <td>mille-feuille-bakery-new-york-3</td>\n      <td>Mille-Feuille Bakery</td>\n      <td>https://s3-media1.fl.yelpcdn.com/bphoto/HHm3mm...</td>\n      <td>False</td>\n      <td>https://www.yelp.com/biz/mille-feuille-bakery-...</td>\n      <td>441</td>\n      <td>[{'alias': 'coffee', 'title': 'Coffee &amp; Tea'},...</td>\n      <td>4.5</td>\n      <td>{'latitude': 40.782425, 'longitude': -73.9811603}</td>\n      <td>['delivery', 'pickup']</td>\n      <td>{'address1': '2175 Broadway', 'address2': '', ...</td>\n      <td>1.212363e+10</td>\n      <td>(212) 362-6261</td>\n      <td>8630.996628</td>\n      <td>$$</td>\n      <td>NaN</td>\n      <td>NaN</td>\n      <td>NaN</td>\n      <td>NaN</td>\n    </tr>\n  </tbody>\n</table>\n</div>"
     },
     "execution_count": 20,
     "metadata": {},
     "output_type": "execute_result"
    }
   ],
   "source": [
    "# Importing dataframes\n",
    "dataframes = []\n",
    "for file in glob.glob('Resources/*.csv'):\n",
    "    dataframes.append(pd.read_csv(file))\n",
    "\n",
    "# Concatenate dataframes\n",
    "df_main = pd.concat(dataframes, ignore_index=True)\n",
    "df_main.head()"
   ],
   "metadata": {
    "collapsed": false,
    "ExecuteTime": {
     "end_time": "2023-10-20T19:09:18.706505Z",
     "start_time": "2023-10-20T19:09:18.641577Z"
    }
   },
   "id": "1dfea28d1710181f"
  },
  {
   "cell_type": "code",
   "execution_count": 21,
   "id": "d9d05997-224e-4857-908a-8c568dc7af8b",
   "metadata": {
    "ExecuteTime": {
     "end_time": "2023-10-20T19:09:18.730694Z",
     "start_time": "2023-10-20T19:09:18.710021Z"
    }
   },
   "outputs": [
    {
     "name": "stdout",
     "output_type": "stream",
     "text": [
      "<class 'pandas.core.frame.DataFrame'>\n",
      "RangeIndex: 11470 entries, 0 to 11469\n",
      "Data columns (total 9 columns):\n",
      " #   Column         Non-Null Count  Dtype  \n",
      "---  ------         --------------  -----  \n",
      " 0   id             11470 non-null  object \n",
      " 1   name           11470 non-null  object \n",
      " 2   review_count   11470 non-null  int64  \n",
      " 3   categories     5098 non-null   object \n",
      " 4   rating         11470 non-null  float64\n",
      " 5   coordinates    5098 non-null   object \n",
      " 6   phone          10215 non-null  float64\n",
      " 7   display_phone  10215 non-null  object \n",
      " 8   price          7869 non-null   object \n",
      "dtypes: float64(2), int64(1), object(6)\n",
      "memory usage: 806.6+ KB\n",
      "None\n"
     ]
    }
   ],
   "source": [
    "# Create sublist\n",
    "master_df_sub = df_main[['id', 'name', 'review_count', 'categories', 'rating', 'coordinates', 'phone', 'display_phone', 'price']]\n",
    "master_df_sub.head()\n",
    "\n",
    "# View null values\n",
    "print(master_df_sub.info())"
   ]
  },
  {
   "cell_type": "code",
   "execution_count": 22,
   "id": "0e59fa4c-6e56-490b-8fc0-9fda75b50306",
   "metadata": {
    "ExecuteTime": {
     "end_time": "2023-10-20T19:09:18.859420Z",
     "start_time": "2023-10-20T19:09:18.720089Z"
    }
   },
   "outputs": [
    {
     "data": {
      "text/plain": "                           id                  name  review_count  \\\n0      epvSBt9LldIgyc08f8nIAw  La Bicyclette Bakery             3   \n1      -k_5NsYnKCHGTdBaqegkrw            Le Fournil           118   \n2      0kW0112jMERVjpRzWT4F7Q  La Bicyclette Bakery            84   \n3      XSwagBljEsxG2i1rq4GEAQ      Almondine Bakery           404   \n4      fPQ2eE9lm8tc87O5-GLjyA  Mille-Feuille Bakery           441   \n...                       ...                   ...           ...   \n11465  Ng_LY9KteuAMxggboYmVng       D'Orsi's Bakery            55   \n11466  dt5ze7syLkALVI3DQfHp_A            Loqma Cafe            20   \n11467  raqwXUBlnc0e8c7CYmxEJQ             Scarpetta          2264   \n11468  1-k63Nhn0lRe48Zrz-WuJA     Miss American Pie           112   \n11469  3OT1deSiIYhrcXWJ1sD3wA         Shui Mei Cafe            50   \n\n                                              categories  rating  \\\n0                                    bakeries,  Bakeries     4.5   \n1                                    bakeries,  Bakeries     4.5   \n2                                    bakeries,  Bakeries     5.0   \n3                                    bakeries,  Bakeries     4.0   \n4            coffee,  Coffee & Tea,  bakeries,  Bakeries     4.5   \n...                                                  ...     ...   \n11465          catering,  Caterers,  bakeries,  Bakeries     4.0   \n11466   turkish,  Turkish,  cafes,  Cafes,  seafood, ...     3.5   \n11467   italian,  Italian,  bars,  Bars,  desserts,  ...     4.0   \n11468   bakeries,  Bakeries,  desserts,  Desserts,  c...     5.0   \n11469                  cafes,  Cafes,  chinese,  Chinese     4.5   \n\n                                    coordinates         phone   display_phone  \\\n0        40.68358704921419,  -73.99509019999999           NaN             NaN   \n1                        40.727947,  -73.988489           NaN             NaN   \n2       40.714400045936806,  -73.95911000669003  1.347916e+10  (347) 916-1417   \n3                      40.7033174,  -73.9912506  1.718798e+10  (718) 797-5026   \n4                       40.782425,  -73.9811603  1.212363e+10  (212) 362-6261   \n...                                         ...           ...             ...   \n11465                    40.56669,  -74.2519499  1.732635e+10  (732) 634-7994   \n11466                    40.585861,  -73.953604           NaN             NaN   \n11467                      40.744509,  -73.9856  1.212691e+10  (212) 691-0555   \n11468                      40.68049,  -73.97785  1.718789e+10  (718) 789-3747   \n11469                  40.7135318,  -73.9948386  1.212791e+10  (212) 791-2819   \n\n      price  \n0       NaN  \n1        $$  \n2       NaN  \n3        $$  \n4        $$  \n...     ...  \n11465    $$  \n11466    $$  \n11467   $$$  \n11468   NaN  \n11469     $  \n\n[11470 rows x 9 columns]",
      "text/html": "<div>\n<style scoped>\n    .dataframe tbody tr th:only-of-type {\n        vertical-align: middle;\n    }\n\n    .dataframe tbody tr th {\n        vertical-align: top;\n    }\n\n    .dataframe thead th {\n        text-align: right;\n    }\n</style>\n<table border=\"1\" class=\"dataframe\">\n  <thead>\n    <tr style=\"text-align: right;\">\n      <th></th>\n      <th>id</th>\n      <th>name</th>\n      <th>review_count</th>\n      <th>categories</th>\n      <th>rating</th>\n      <th>coordinates</th>\n      <th>phone</th>\n      <th>display_phone</th>\n      <th>price</th>\n    </tr>\n  </thead>\n  <tbody>\n    <tr>\n      <th>0</th>\n      <td>epvSBt9LldIgyc08f8nIAw</td>\n      <td>La Bicyclette Bakery</td>\n      <td>3</td>\n      <td>bakeries,  Bakeries</td>\n      <td>4.5</td>\n      <td>40.68358704921419,  -73.99509019999999</td>\n      <td>NaN</td>\n      <td>NaN</td>\n      <td>NaN</td>\n    </tr>\n    <tr>\n      <th>1</th>\n      <td>-k_5NsYnKCHGTdBaqegkrw</td>\n      <td>Le Fournil</td>\n      <td>118</td>\n      <td>bakeries,  Bakeries</td>\n      <td>4.5</td>\n      <td>40.727947,  -73.988489</td>\n      <td>NaN</td>\n      <td>NaN</td>\n      <td>$$</td>\n    </tr>\n    <tr>\n      <th>2</th>\n      <td>0kW0112jMERVjpRzWT4F7Q</td>\n      <td>La Bicyclette Bakery</td>\n      <td>84</td>\n      <td>bakeries,  Bakeries</td>\n      <td>5.0</td>\n      <td>40.714400045936806,  -73.95911000669003</td>\n      <td>1.347916e+10</td>\n      <td>(347) 916-1417</td>\n      <td>NaN</td>\n    </tr>\n    <tr>\n      <th>3</th>\n      <td>XSwagBljEsxG2i1rq4GEAQ</td>\n      <td>Almondine Bakery</td>\n      <td>404</td>\n      <td>bakeries,  Bakeries</td>\n      <td>4.0</td>\n      <td>40.7033174,  -73.9912506</td>\n      <td>1.718798e+10</td>\n      <td>(718) 797-5026</td>\n      <td>$$</td>\n    </tr>\n    <tr>\n      <th>4</th>\n      <td>fPQ2eE9lm8tc87O5-GLjyA</td>\n      <td>Mille-Feuille Bakery</td>\n      <td>441</td>\n      <td>coffee,  Coffee &amp; Tea,  bakeries,  Bakeries</td>\n      <td>4.5</td>\n      <td>40.782425,  -73.9811603</td>\n      <td>1.212363e+10</td>\n      <td>(212) 362-6261</td>\n      <td>$$</td>\n    </tr>\n    <tr>\n      <th>...</th>\n      <td>...</td>\n      <td>...</td>\n      <td>...</td>\n      <td>...</td>\n      <td>...</td>\n      <td>...</td>\n      <td>...</td>\n      <td>...</td>\n      <td>...</td>\n    </tr>\n    <tr>\n      <th>11465</th>\n      <td>Ng_LY9KteuAMxggboYmVng</td>\n      <td>D'Orsi's Bakery</td>\n      <td>55</td>\n      <td>catering,  Caterers,  bakeries,  Bakeries</td>\n      <td>4.0</td>\n      <td>40.56669,  -74.2519499</td>\n      <td>1.732635e+10</td>\n      <td>(732) 634-7994</td>\n      <td>$$</td>\n    </tr>\n    <tr>\n      <th>11466</th>\n      <td>dt5ze7syLkALVI3DQfHp_A</td>\n      <td>Loqma Cafe</td>\n      <td>20</td>\n      <td>turkish,  Turkish,  cafes,  Cafes,  seafood, ...</td>\n      <td>3.5</td>\n      <td>40.585861,  -73.953604</td>\n      <td>NaN</td>\n      <td>NaN</td>\n      <td>$$</td>\n    </tr>\n    <tr>\n      <th>11467</th>\n      <td>raqwXUBlnc0e8c7CYmxEJQ</td>\n      <td>Scarpetta</td>\n      <td>2264</td>\n      <td>italian,  Italian,  bars,  Bars,  desserts,  ...</td>\n      <td>4.0</td>\n      <td>40.744509,  -73.9856</td>\n      <td>1.212691e+10</td>\n      <td>(212) 691-0555</td>\n      <td>$$$</td>\n    </tr>\n    <tr>\n      <th>11468</th>\n      <td>1-k63Nhn0lRe48Zrz-WuJA</td>\n      <td>Miss American Pie</td>\n      <td>112</td>\n      <td>bakeries,  Bakeries,  desserts,  Desserts,  c...</td>\n      <td>5.0</td>\n      <td>40.68049,  -73.97785</td>\n      <td>1.718789e+10</td>\n      <td>(718) 789-3747</td>\n      <td>NaN</td>\n    </tr>\n    <tr>\n      <th>11469</th>\n      <td>3OT1deSiIYhrcXWJ1sD3wA</td>\n      <td>Shui Mei Cafe</td>\n      <td>50</td>\n      <td>cafes,  Cafes,  chinese,  Chinese</td>\n      <td>4.5</td>\n      <td>40.7135318,  -73.9948386</td>\n      <td>1.212791e+10</td>\n      <td>(212) 791-2819</td>\n      <td>$</td>\n    </tr>\n  </tbody>\n</table>\n<p>11470 rows × 9 columns</p>\n</div>"
     },
     "execution_count": 22,
     "metadata": {},
     "output_type": "execute_result"
    }
   ],
   "source": [
    "# Remove unnecessary labels\n",
    "chars_to_remove = ['[', '{', '\\'', 'alias', 'title', 'latitude', 'longitude', \"}\", \":\", \"}\", \"]\"]\n",
    "col_list = ['categories', 'coordinates']\n",
    "\n",
    "\n",
    "def string_cleaner(df, col_list, char_list):\n",
    "    for item in char_list:\n",
    "        for col in col_list:\n",
    "            df.loc[:, col] = df[col].str.replace(item, \"\", case=False)\n",
    "    return df\n",
    "\n",
    "string_cleaner(master_df_sub, col_list, chars_to_remove)"
   ]
  },
  {
   "cell_type": "code",
   "execution_count": 23,
   "id": "cc0c6513-680a-41f7-abe3-860f8d8dc3a9",
   "metadata": {
    "ExecuteTime": {
     "end_time": "2023-10-20T19:09:18.859713Z",
     "start_time": "2023-10-20T19:09:18.799456Z"
    }
   },
   "outputs": [
    {
     "name": "stdout",
     "output_type": "stream",
     "text": [
      "<class 'pandas.core.frame.DataFrame'>\n",
      "Index: 10413 entries, 0 to 29816\n",
      "Data columns (total 9 columns):\n",
      " #   Column         Non-Null Count  Dtype  \n",
      "---  ------         --------------  -----  \n",
      " 0   id             10413 non-null  object \n",
      " 1   name           10413 non-null  object \n",
      " 2   review_count   10413 non-null  int64  \n",
      " 3   categories     10413 non-null  object \n",
      " 4   rating         10413 non-null  float64\n",
      " 5   coordinates    7677 non-null   object \n",
      " 6   phone          9216 non-null   float64\n",
      " 7   display_phone  9216 non-null   object \n",
      " 8   price          6951 non-null   object \n",
      "dtypes: float64(2), int64(1), object(6)\n",
      "memory usage: 813.5+ KB\n",
      "None\n"
     ]
    }
   ],
   "source": [
    "# Tidying categories column\n",
    "    # lower case all \n",
    "master_df_sub['categories'] = master_df_sub['categories'].astype('str').apply(lambda x: x.lower())\n",
    "    # Split string value into list\n",
    "master_df_sub['categories'] = master_df_sub['categories'].str.split(',')\n",
    "    # Explode\n",
    "master_df_sub = master_df_sub.explode('categories', ignore_index=True)\n",
    "    # Remove hidden spacing\n",
    "master_df_sub['categories'] = master_df_sub['categories'].str.strip()\n",
    "    # Delete spacing for redundancy\n",
    "master_df_sub['categories'] = master_df_sub['categories'].str.replace(' ', '')\n",
    "    # Drop duplicates (alias), keep primary\n",
    "master_df_sub.drop_duplicates(subset=['id', 'categories'], inplace=True, keep='first')\n",
    "    # Aliases occasionally have underscores, filter these out\n",
    "master_df_sub = master_df_sub[~master_df_sub['categories'].str.contains('_')]\n",
    "\n",
    "# Preview\n",
    "print(master_df_sub.info())"
   ]
  },
  {
   "cell_type": "code",
   "execution_count": 24,
   "id": "18337814-c8d7-4295-9e6a-bacb83d5bed3",
   "metadata": {
    "ExecuteTime": {
     "end_time": "2023-10-20T19:09:18.860033Z",
     "start_time": "2023-10-20T19:09:18.834852Z"
    }
   },
   "outputs": [
    {
     "data": {
      "text/plain": "                           id                  name  review_count  category  \\\n0      epvSBt9LldIgyc08f8nIAw  La Bicyclette Bakery             3  bakeries   \n2      -k_5NsYnKCHGTdBaqegkrw            Le Fournil           118  bakeries   \n4      0kW0112jMERVjpRzWT4F7Q  La Bicyclette Bakery            84  bakeries   \n6      XSwagBljEsxG2i1rq4GEAQ      Almondine Bakery           404  bakeries   \n8      fPQ2eE9lm8tc87O5-GLjyA  Mille-Feuille Bakery           441    coffee   \n...                       ...                   ...           ...       ...   \n29808  dt5ze7syLkALVI3DQfHp_A            Loqma Cafe            20     cafes   \n29810  dt5ze7syLkALVI3DQfHp_A            Loqma Cafe            20   seafood   \n29812  raqwXUBlnc0e8c7CYmxEJQ             Scarpetta          2264   italian   \n29814  raqwXUBlnc0e8c7CYmxEJQ             Scarpetta          2264      bars   \n29816  raqwXUBlnc0e8c7CYmxEJQ             Scarpetta          2264  desserts   \n\n       rating         phone   display_phone price            coord_lat  \\\n0         4.5           NaN             NaN   NaN    40.68358704921419   \n2         4.5           NaN             NaN    $$            40.727947   \n4         5.0  1.347916e+10  (347) 916-1417   NaN   40.714400045936806   \n6         4.0  1.718798e+10  (718) 797-5026    $$           40.7033174   \n8         4.5  1.212363e+10  (212) 362-6261    $$            40.782425   \n...       ...           ...             ...   ...                  ...   \n29808     3.5           NaN             NaN    $$            40.585861   \n29810     3.5           NaN             NaN    $$            40.585861   \n29812     4.0  1.212691e+10  (212) 691-0555   $$$            40.744509   \n29814     4.0  1.212691e+10  (212) 691-0555   $$$            40.744509   \n29816     4.0  1.212691e+10  (212) 691-0555   $$$            40.744509   \n\n                coord_long  \n0       -73.99509019999999  \n2               -73.988489  \n4       -73.95911000669003  \n6              -73.9912506  \n8              -73.9811603  \n...                    ...  \n29808           -73.953604  \n29810           -73.953604  \n29812             -73.9856  \n29814             -73.9856  \n29816             -73.9856  \n\n[10413 rows x 10 columns]",
      "text/html": "<div>\n<style scoped>\n    .dataframe tbody tr th:only-of-type {\n        vertical-align: middle;\n    }\n\n    .dataframe tbody tr th {\n        vertical-align: top;\n    }\n\n    .dataframe thead th {\n        text-align: right;\n    }\n</style>\n<table border=\"1\" class=\"dataframe\">\n  <thead>\n    <tr style=\"text-align: right;\">\n      <th></th>\n      <th>id</th>\n      <th>name</th>\n      <th>review_count</th>\n      <th>category</th>\n      <th>rating</th>\n      <th>phone</th>\n      <th>display_phone</th>\n      <th>price</th>\n      <th>coord_lat</th>\n      <th>coord_long</th>\n    </tr>\n  </thead>\n  <tbody>\n    <tr>\n      <th>0</th>\n      <td>epvSBt9LldIgyc08f8nIAw</td>\n      <td>La Bicyclette Bakery</td>\n      <td>3</td>\n      <td>bakeries</td>\n      <td>4.5</td>\n      <td>NaN</td>\n      <td>NaN</td>\n      <td>NaN</td>\n      <td>40.68358704921419</td>\n      <td>-73.99509019999999</td>\n    </tr>\n    <tr>\n      <th>2</th>\n      <td>-k_5NsYnKCHGTdBaqegkrw</td>\n      <td>Le Fournil</td>\n      <td>118</td>\n      <td>bakeries</td>\n      <td>4.5</td>\n      <td>NaN</td>\n      <td>NaN</td>\n      <td>$$</td>\n      <td>40.727947</td>\n      <td>-73.988489</td>\n    </tr>\n    <tr>\n      <th>4</th>\n      <td>0kW0112jMERVjpRzWT4F7Q</td>\n      <td>La Bicyclette Bakery</td>\n      <td>84</td>\n      <td>bakeries</td>\n      <td>5.0</td>\n      <td>1.347916e+10</td>\n      <td>(347) 916-1417</td>\n      <td>NaN</td>\n      <td>40.714400045936806</td>\n      <td>-73.95911000669003</td>\n    </tr>\n    <tr>\n      <th>6</th>\n      <td>XSwagBljEsxG2i1rq4GEAQ</td>\n      <td>Almondine Bakery</td>\n      <td>404</td>\n      <td>bakeries</td>\n      <td>4.0</td>\n      <td>1.718798e+10</td>\n      <td>(718) 797-5026</td>\n      <td>$$</td>\n      <td>40.7033174</td>\n      <td>-73.9912506</td>\n    </tr>\n    <tr>\n      <th>8</th>\n      <td>fPQ2eE9lm8tc87O5-GLjyA</td>\n      <td>Mille-Feuille Bakery</td>\n      <td>441</td>\n      <td>coffee</td>\n      <td>4.5</td>\n      <td>1.212363e+10</td>\n      <td>(212) 362-6261</td>\n      <td>$$</td>\n      <td>40.782425</td>\n      <td>-73.9811603</td>\n    </tr>\n    <tr>\n      <th>...</th>\n      <td>...</td>\n      <td>...</td>\n      <td>...</td>\n      <td>...</td>\n      <td>...</td>\n      <td>...</td>\n      <td>...</td>\n      <td>...</td>\n      <td>...</td>\n      <td>...</td>\n    </tr>\n    <tr>\n      <th>29808</th>\n      <td>dt5ze7syLkALVI3DQfHp_A</td>\n      <td>Loqma Cafe</td>\n      <td>20</td>\n      <td>cafes</td>\n      <td>3.5</td>\n      <td>NaN</td>\n      <td>NaN</td>\n      <td>$$</td>\n      <td>40.585861</td>\n      <td>-73.953604</td>\n    </tr>\n    <tr>\n      <th>29810</th>\n      <td>dt5ze7syLkALVI3DQfHp_A</td>\n      <td>Loqma Cafe</td>\n      <td>20</td>\n      <td>seafood</td>\n      <td>3.5</td>\n      <td>NaN</td>\n      <td>NaN</td>\n      <td>$$</td>\n      <td>40.585861</td>\n      <td>-73.953604</td>\n    </tr>\n    <tr>\n      <th>29812</th>\n      <td>raqwXUBlnc0e8c7CYmxEJQ</td>\n      <td>Scarpetta</td>\n      <td>2264</td>\n      <td>italian</td>\n      <td>4.0</td>\n      <td>1.212691e+10</td>\n      <td>(212) 691-0555</td>\n      <td>$$$</td>\n      <td>40.744509</td>\n      <td>-73.9856</td>\n    </tr>\n    <tr>\n      <th>29814</th>\n      <td>raqwXUBlnc0e8c7CYmxEJQ</td>\n      <td>Scarpetta</td>\n      <td>2264</td>\n      <td>bars</td>\n      <td>4.0</td>\n      <td>1.212691e+10</td>\n      <td>(212) 691-0555</td>\n      <td>$$$</td>\n      <td>40.744509</td>\n      <td>-73.9856</td>\n    </tr>\n    <tr>\n      <th>29816</th>\n      <td>raqwXUBlnc0e8c7CYmxEJQ</td>\n      <td>Scarpetta</td>\n      <td>2264</td>\n      <td>desserts</td>\n      <td>4.0</td>\n      <td>1.212691e+10</td>\n      <td>(212) 691-0555</td>\n      <td>$$$</td>\n      <td>40.744509</td>\n      <td>-73.9856</td>\n    </tr>\n  </tbody>\n</table>\n<p>10413 rows × 10 columns</p>\n</div>"
     },
     "execution_count": 24,
     "metadata": {},
     "output_type": "execute_result"
    }
   ],
   "source": [
    "# Split Coordinates column into lat, long\n",
    "master_df_sub[['coord_lat', 'coord_long']] = master_df_sub['coordinates'].str.split(pat=', ', expand=True)\n",
    "master_df_sub = master_df_sub.drop('coordinates', axis=1)\n",
    "\n",
    "# Rename columns\n",
    "master_df_sub.columns = ['id', 'name', 'review_count', 'category', 'rating', 'phone', 'display_phone', 'price', 'coord_lat', 'coord_long']\n",
    "master_df_sub"
   ]
  },
  {
   "cell_type": "code",
   "execution_count": 25,
   "id": "39059a2f",
   "metadata": {
    "ExecuteTime": {
     "end_time": "2023-10-20T19:09:18.864457Z",
     "start_time": "2023-10-20T19:09:18.853318Z"
    }
   },
   "outputs": [],
   "source": [
    "# Identify redundant categories, drop categories not of interest\n",
    "    # Ice Cream\n",
    "master_df_sub['category'] = master_df_sub['category'].str.replace('icecream&frozenyogurt', 'icecream')\n",
    "    # Cake shops\n",
    "master_df_sub['category'] = master_df_sub['category'].str.replace('patisserie/cakeshop', 'cakeshop')\n",
    "master_df_sub['category'] = master_df_sub['category'].str.replace('customcakes', 'cakeshop')\n",
    "    # Gelato\n",
    "master_df_sub['category'] = master_df_sub['category'].str.replace('gelato', 'icecream')\n",
    "    # Venues\n",
    "master_df_sub['category'] = master_df_sub['category'].str.replace('venues&eventspaces', 'venues')\n",
    "    # Coffee and teas\n",
    "master_df_sub['category'] = master_df_sub['category'].str.replace('coffee&tea', 'coffee')\n",
    "    # Coffee and teas\n",
    "master_df_sub['category'] = master_df_sub['category'].str.replace('juicebars&smoothies', 'juicebars')\n",
    "    # Coffee and teas\n",
    "master_df_sub['category'] = master_df_sub['category'].str.replace('chocolatiers&shops', 'chocolate')\n",
    "\n",
    "# Drop Categories\n",
    "master_df_sub.drop_duplicates(subset=['id', 'category'], inplace=True, keep='first')"
   ]
  },
  {
   "cell_type": "code",
   "execution_count": 26,
   "id": "5a3774ca",
   "metadata": {
    "ExecuteTime": {
     "end_time": "2023-10-20T19:09:18.903319Z",
     "start_time": "2023-10-20T19:09:18.864399Z"
    }
   },
   "outputs": [
    {
     "data": {
      "text/plain": "category\nnan                 2736\nbakeries            1145\ncoffee               861\ndesserts             656\nbreakfast&brunch     295\n                    ... \njewelry                1\npetadoption            1\nartgalleries           1\nbangladeshi            1\nbeveragestore          1\nName: count, Length: 260, dtype: int64"
     },
     "execution_count": 26,
     "metadata": {},
     "output_type": "execute_result"
    }
   ],
   "source": [
    "master_df_sub.category.value_counts()"
   ]
  },
  {
   "cell_type": "code",
   "execution_count": 27,
   "outputs": [
    {
     "name": "stdout",
     "output_type": "stream",
     "text": [
      "<class 'pandas.core.frame.DataFrame'>\n",
      "Index: 9108 entries, 0 to 29816\n",
      "Data columns (total 10 columns):\n",
      " #   Column         Non-Null Count  Dtype  \n",
      "---  ------         --------------  -----  \n",
      " 0   id             9108 non-null   object \n",
      " 1   name           9108 non-null   object \n",
      " 2   review_count   9108 non-null   int64  \n",
      " 3   category       9108 non-null   object \n",
      " 4   rating         9108 non-null   float64\n",
      " 5   phone          8088 non-null   float64\n",
      " 6   display_phone  8088 non-null   object \n",
      " 7   price          6096 non-null   object \n",
      " 8   coord_lat      6372 non-null   object \n",
      " 9   coord_long     6372 non-null   object \n",
      "dtypes: float64(2), int64(1), object(7)\n",
      "memory usage: 782.7+ KB\n"
     ]
    }
   ],
   "source": [
    "master_df_sub.info()"
   ],
   "metadata": {
    "collapsed": false,
    "ExecuteTime": {
     "end_time": "2023-10-20T19:09:18.903488Z",
     "start_time": "2023-10-20T19:09:18.867712Z"
    }
   },
   "id": "4e54e4d83eafd9"
  },
  {
   "cell_type": "code",
   "execution_count": 28,
   "outputs": [],
   "source": [
    "# Export to csv\n",
    "# master_df_sub.to_csv('Resources/nyc_bakeries_aggregated.csv')"
   ],
   "metadata": {
    "collapsed": false,
    "ExecuteTime": {
     "end_time": "2023-10-20T19:09:18.903525Z",
     "start_time": "2023-10-20T19:09:18.872365Z"
    }
   },
   "id": "12890bf484f27639"
  },
  {
   "cell_type": "code",
   "execution_count": 29,
   "outputs": [
    {
     "data": {
      "text/plain": "                           id                  name  review_count  category  \\\n0      epvSBt9LldIgyc08f8nIAw  La Bicyclette Bakery             3  bakeries   \n2      -k_5NsYnKCHGTdBaqegkrw            Le Fournil           118  bakeries   \n4      0kW0112jMERVjpRzWT4F7Q  La Bicyclette Bakery            84  bakeries   \n6      XSwagBljEsxG2i1rq4GEAQ      Almondine Bakery           404  bakeries   \n8      fPQ2eE9lm8tc87O5-GLjyA  Mille-Feuille Bakery           441    coffee   \n...                       ...                   ...           ...       ...   \n29808  dt5ze7syLkALVI3DQfHp_A            Loqma Cafe            20     cafes   \n29810  dt5ze7syLkALVI3DQfHp_A            Loqma Cafe            20   seafood   \n29812  raqwXUBlnc0e8c7CYmxEJQ             Scarpetta          2264   italian   \n29814  raqwXUBlnc0e8c7CYmxEJQ             Scarpetta          2264      bars   \n29816  raqwXUBlnc0e8c7CYmxEJQ             Scarpetta          2264  desserts   \n\n       rating         phone   display_phone price            coord_lat  \\\n0         4.5           NaN             NaN   NaN    40.68358704921419   \n2         4.5           NaN             NaN    $$            40.727947   \n4         5.0  1.347916e+10  (347) 916-1417   NaN   40.714400045936806   \n6         4.0  1.718798e+10  (718) 797-5026    $$           40.7033174   \n8         4.5  1.212363e+10  (212) 362-6261    $$            40.782425   \n...       ...           ...             ...   ...                  ...   \n29808     3.5           NaN             NaN    $$            40.585861   \n29810     3.5           NaN             NaN    $$            40.585861   \n29812     4.0  1.212691e+10  (212) 691-0555   $$$            40.744509   \n29814     4.0  1.212691e+10  (212) 691-0555   $$$            40.744509   \n29816     4.0  1.212691e+10  (212) 691-0555   $$$            40.744509   \n\n                coord_long  \n0       -73.99509019999999  \n2               -73.988489  \n4       -73.95911000669003  \n6              -73.9912506  \n8              -73.9811603  \n...                    ...  \n29808           -73.953604  \n29810           -73.953604  \n29812             -73.9856  \n29814             -73.9856  \n29816             -73.9856  \n\n[9108 rows x 10 columns]",
      "text/html": "<div>\n<style scoped>\n    .dataframe tbody tr th:only-of-type {\n        vertical-align: middle;\n    }\n\n    .dataframe tbody tr th {\n        vertical-align: top;\n    }\n\n    .dataframe thead th {\n        text-align: right;\n    }\n</style>\n<table border=\"1\" class=\"dataframe\">\n  <thead>\n    <tr style=\"text-align: right;\">\n      <th></th>\n      <th>id</th>\n      <th>name</th>\n      <th>review_count</th>\n      <th>category</th>\n      <th>rating</th>\n      <th>phone</th>\n      <th>display_phone</th>\n      <th>price</th>\n      <th>coord_lat</th>\n      <th>coord_long</th>\n    </tr>\n  </thead>\n  <tbody>\n    <tr>\n      <th>0</th>\n      <td>epvSBt9LldIgyc08f8nIAw</td>\n      <td>La Bicyclette Bakery</td>\n      <td>3</td>\n      <td>bakeries</td>\n      <td>4.5</td>\n      <td>NaN</td>\n      <td>NaN</td>\n      <td>NaN</td>\n      <td>40.68358704921419</td>\n      <td>-73.99509019999999</td>\n    </tr>\n    <tr>\n      <th>2</th>\n      <td>-k_5NsYnKCHGTdBaqegkrw</td>\n      <td>Le Fournil</td>\n      <td>118</td>\n      <td>bakeries</td>\n      <td>4.5</td>\n      <td>NaN</td>\n      <td>NaN</td>\n      <td>$$</td>\n      <td>40.727947</td>\n      <td>-73.988489</td>\n    </tr>\n    <tr>\n      <th>4</th>\n      <td>0kW0112jMERVjpRzWT4F7Q</td>\n      <td>La Bicyclette Bakery</td>\n      <td>84</td>\n      <td>bakeries</td>\n      <td>5.0</td>\n      <td>1.347916e+10</td>\n      <td>(347) 916-1417</td>\n      <td>NaN</td>\n      <td>40.714400045936806</td>\n      <td>-73.95911000669003</td>\n    </tr>\n    <tr>\n      <th>6</th>\n      <td>XSwagBljEsxG2i1rq4GEAQ</td>\n      <td>Almondine Bakery</td>\n      <td>404</td>\n      <td>bakeries</td>\n      <td>4.0</td>\n      <td>1.718798e+10</td>\n      <td>(718) 797-5026</td>\n      <td>$$</td>\n      <td>40.7033174</td>\n      <td>-73.9912506</td>\n    </tr>\n    <tr>\n      <th>8</th>\n      <td>fPQ2eE9lm8tc87O5-GLjyA</td>\n      <td>Mille-Feuille Bakery</td>\n      <td>441</td>\n      <td>coffee</td>\n      <td>4.5</td>\n      <td>1.212363e+10</td>\n      <td>(212) 362-6261</td>\n      <td>$$</td>\n      <td>40.782425</td>\n      <td>-73.9811603</td>\n    </tr>\n    <tr>\n      <th>...</th>\n      <td>...</td>\n      <td>...</td>\n      <td>...</td>\n      <td>...</td>\n      <td>...</td>\n      <td>...</td>\n      <td>...</td>\n      <td>...</td>\n      <td>...</td>\n      <td>...</td>\n    </tr>\n    <tr>\n      <th>29808</th>\n      <td>dt5ze7syLkALVI3DQfHp_A</td>\n      <td>Loqma Cafe</td>\n      <td>20</td>\n      <td>cafes</td>\n      <td>3.5</td>\n      <td>NaN</td>\n      <td>NaN</td>\n      <td>$$</td>\n      <td>40.585861</td>\n      <td>-73.953604</td>\n    </tr>\n    <tr>\n      <th>29810</th>\n      <td>dt5ze7syLkALVI3DQfHp_A</td>\n      <td>Loqma Cafe</td>\n      <td>20</td>\n      <td>seafood</td>\n      <td>3.5</td>\n      <td>NaN</td>\n      <td>NaN</td>\n      <td>$$</td>\n      <td>40.585861</td>\n      <td>-73.953604</td>\n    </tr>\n    <tr>\n      <th>29812</th>\n      <td>raqwXUBlnc0e8c7CYmxEJQ</td>\n      <td>Scarpetta</td>\n      <td>2264</td>\n      <td>italian</td>\n      <td>4.0</td>\n      <td>1.212691e+10</td>\n      <td>(212) 691-0555</td>\n      <td>$$$</td>\n      <td>40.744509</td>\n      <td>-73.9856</td>\n    </tr>\n    <tr>\n      <th>29814</th>\n      <td>raqwXUBlnc0e8c7CYmxEJQ</td>\n      <td>Scarpetta</td>\n      <td>2264</td>\n      <td>bars</td>\n      <td>4.0</td>\n      <td>1.212691e+10</td>\n      <td>(212) 691-0555</td>\n      <td>$$$</td>\n      <td>40.744509</td>\n      <td>-73.9856</td>\n    </tr>\n    <tr>\n      <th>29816</th>\n      <td>raqwXUBlnc0e8c7CYmxEJQ</td>\n      <td>Scarpetta</td>\n      <td>2264</td>\n      <td>desserts</td>\n      <td>4.0</td>\n      <td>1.212691e+10</td>\n      <td>(212) 691-0555</td>\n      <td>$$$</td>\n      <td>40.744509</td>\n      <td>-73.9856</td>\n    </tr>\n  </tbody>\n</table>\n<p>9108 rows × 10 columns</p>\n</div>"
     },
     "execution_count": 29,
     "metadata": {},
     "output_type": "execute_result"
    }
   ],
   "source": [
    "master_df_sub"
   ],
   "metadata": {
    "collapsed": false,
    "ExecuteTime": {
     "end_time": "2023-10-20T19:09:18.903855Z",
     "start_time": "2023-10-20T19:09:18.878548Z"
    }
   },
   "id": "41078d8c068f6601"
  },
  {
   "cell_type": "code",
   "execution_count": 29,
   "outputs": [],
   "source": [],
   "metadata": {
    "collapsed": false,
    "ExecuteTime": {
     "end_time": "2023-10-20T19:09:18.931629Z",
     "start_time": "2023-10-20T19:09:18.881040Z"
    }
   },
   "id": "875e93157f1a40c2"
  }
 ],
 "metadata": {
  "kernelspec": {
   "display_name": "Python 3 (ipykernel)",
   "language": "python",
   "name": "python3"
  },
  "language_info": {
   "codemirror_mode": {
    "name": "ipython",
    "version": 3
   },
   "file_extension": ".py",
   "mimetype": "text/x-python",
   "name": "python",
   "nbconvert_exporter": "python",
   "pygments_lexer": "ipython3",
   "version": "3.11.5"
  }
 },
 "nbformat": 4,
 "nbformat_minor": 5
}
