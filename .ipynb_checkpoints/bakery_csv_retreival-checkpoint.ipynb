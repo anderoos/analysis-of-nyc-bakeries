{
 "cells": [
  {
   "cell_type": "code",
   "execution_count": 1,
   "id": "65a77d19",
   "metadata": {
    "editable": true,
    "slideshow": {
     "slide_type": ""
    },
    "tags": []
   },
   "outputs": [],
   "source": [
    "import pandas as pd\n",
    "import requests\n",
    "from yelp_api import api_key"
   ]
  },
  {
   "cell_type": "code",
   "execution_count": 3,
   "id": "25dd3cb8",
   "metadata": {},
   "outputs": [],
   "source": [
    "# https://stackoverflow.com/questions/35525994/how-to-request-more-than-20-results-from-yelp-api\n",
    "def get_businesses(location, term, api_key):\n",
    "    headers = {'Authorization': 'Bearer %s' % api_key}\n",
    "    url = 'https://api.yelp.com/v3/businesses/search'\n",
    "\n",
    "    data = []\n",
    "    for offset in range(0, 1000, 50):\n",
    "        params = {\n",
    "            'limit': 50, \n",
    "            'location': location.replace(' ', '+'),\n",
    "            'term': term.replace(' ', '+'),\n",
    "            'offset': offset\n",
    "        }\n",
    "\n",
    "        response = requests.get(url, headers=headers, params=params)\n",
    "        if response.status_code == 200:\n",
    "            data += response.json()['businesses']\n",
    "        elif response.status_code == 400:\n",
    "            print('400 Bad Request')\n",
    "            break\n",
    "    return data"
   ]
  },
  {
   "cell_type": "code",
   "execution_count": 4,
   "id": "9bbff8bc",
   "metadata": {},
   "outputs": [
    {
     "ename": "NameError",
     "evalue": "name 'api_key' is not defined",
     "output_type": "error",
     "traceback": [
      "\u001b[0;31m---------------------------------------------------------------------------\u001b[0m",
      "\u001b[0;31mNameError\u001b[0m                                 Traceback (most recent call last)",
      "Cell \u001b[0;32mIn[4], line 2\u001b[0m\n\u001b[1;32m      1\u001b[0m \u001b[38;5;66;03m# Pull term 'bakeries'\u001b[39;00m\n\u001b[0;32m----> 2\u001b[0m data_obj1 \u001b[38;5;241m=\u001b[39m get_businesses(\u001b[38;5;124m\"\u001b[39m\u001b[38;5;124mNY\u001b[39m\u001b[38;5;124m\"\u001b[39m, \u001b[38;5;124m\"\u001b[39m\u001b[38;5;124mbakeries\u001b[39m\u001b[38;5;124m\"\u001b[39m, \u001b[43mapi_key\u001b[49m)\n\u001b[1;32m      3\u001b[0m df1 \u001b[38;5;241m=\u001b[39m pd\u001b[38;5;241m.\u001b[39mDataFrame(data_obj1)\n\u001b[1;32m      4\u001b[0m df1\u001b[38;5;241m.\u001b[39mto_csv(\u001b[38;5;124m'\u001b[39m\u001b[38;5;124mResources/bake_nyc.csv\u001b[39m\u001b[38;5;124m'\u001b[39m, index\u001b[38;5;241m=\u001b[39m\u001b[38;5;28;01mFalse\u001b[39;00m)\n",
      "\u001b[0;31mNameError\u001b[0m: name 'api_key' is not defined"
     ]
    }
   ],
   "source": [
    "# Pull term 'bakeries'\n",
    "data_obj1 = get_businesses(\"NY\", \"bakeries\", api_key)\n",
    "df1 = pd.DataFrame(data_obj1)\n",
    "df1.to_csv('Resources/bake_nyc.csv', index=False)\n",
    "\n",
    "# Pull term 'patisserie'\n",
    "data_obj2 = get_businesses(\"NY\", \"patisserie\", api_key)\n",
    "df2 = pd.DataFrame(data_obj2)\n",
    "df2.to_csv('Resources/patisserie_nyc.csv', index=False)\n",
    "\n",
    "# Pull term 'viennoiserie'\n",
    "data_obj3 = get_businesses(\"NY\", \"viennoiserie\", api_key)\n",
    "df3 = pd.DataFrame(data_obj3)\n",
    "df3.to_csv('Resources/viennoiserie_nyc.csv', index=False)\n",
    "\n",
    "# Pull term 'desserts'\n",
    "data_obj4 = get_businesses(\"NY\", \"desserts\", api_key)\n",
    "df4 = pd.DataFrame(data_obj4)\n",
    "df4.to_csv('Resources/desserts_nyc.csv', index=False)\n",
    "\n",
    "# Pull term 'cake'\n",
    "data_obj5 = get_businesses(\"NY\", \"cake\", api_key)\n",
    "df5 = pd.DataFrame(data_obj5)\n",
    "df5.to_csv('Resources/cake_nyc.csv', index=False)\n",
    "\n",
    "# Pull term 'donut'\n",
    "data_obj6 = get_businesses(\"NY\", \"donut\", api_key)\n",
    "df6 = pd.DataFrame(data_obj6)\n",
    "df6.to_csv('Resources/donut_nyc.csv', index=False)"
   ]
  }
 ],
 "metadata": {
  "kernelspec": {
   "display_name": "Python 3 (ipykernel)",
   "language": "python",
   "name": "python3"
  },
  "language_info": {
   "codemirror_mode": {
    "name": "ipython",
    "version": 3
   },
   "file_extension": ".py",
   "mimetype": "text/x-python",
   "name": "python",
   "nbconvert_exporter": "python",
   "pygments_lexer": "ipython3",
   "version": "3.11.5"
  }
 },
 "nbformat": 4,
 "nbformat_minor": 5
}
