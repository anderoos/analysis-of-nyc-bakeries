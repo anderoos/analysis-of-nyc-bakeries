{
 "cells": [
  {
   "cell_type": "code",
   "execution_count": 17,
   "id": "81cbde39",
   "metadata": {},
   "outputs": [],
   "source": [
    "import numpy as np\n",
    "import pandas as pd\n",
    "from matplotlib import pyplot as plt\n",
    "import seaborn as sns"
   ]
  },
  {
   "cell_type": "code",
   "execution_count": 15,
   "id": "0daa34fe",
   "metadata": {},
   "outputs": [
    {
     "data": {
      "text/html": [
       "<div>\n",
       "<style scoped>\n",
       "    .dataframe tbody tr th:only-of-type {\n",
       "        vertical-align: middle;\n",
       "    }\n",
       "\n",
       "    .dataframe tbody tr th {\n",
       "        vertical-align: top;\n",
       "    }\n",
       "\n",
       "    .dataframe thead th {\n",
       "        text-align: right;\n",
       "    }\n",
       "</style>\n",
       "<table border=\"1\" class=\"dataframe\">\n",
       "  <thead>\n",
       "    <tr style=\"text-align: right;\">\n",
       "      <th></th>\n",
       "      <th>name</th>\n",
       "      <th>review_count</th>\n",
       "      <th>categories</th>\n",
       "      <th>rating</th>\n",
       "      <th>coordinates</th>\n",
       "      <th>price</th>\n",
       "    </tr>\n",
       "  </thead>\n",
       "  <tbody>\n",
       "    <tr>\n",
       "      <th>0</th>\n",
       "      <td>Michaeli Bakery</td>\n",
       "      <td>158</td>\n",
       "      <td>[{'alias': 'bakeries', 'title': 'Bakeries'}, {...</td>\n",
       "      <td>5.0</td>\n",
       "      <td>{'latitude': 40.714349, 'longitude': -73.992054}</td>\n",
       "      <td>$$</td>\n",
       "    </tr>\n",
       "    <tr>\n",
       "      <th>1</th>\n",
       "      <td>Mei Lai Wah Bakery</td>\n",
       "      <td>1735</td>\n",
       "      <td>[{'alias': 'bakeries', 'title': 'Bakeries'}, {...</td>\n",
       "      <td>4.0</td>\n",
       "      <td>{'latitude': 40.7155758, 'longitude': -73.9979...</td>\n",
       "      <td>$</td>\n",
       "    </tr>\n",
       "    <tr>\n",
       "      <th>2</th>\n",
       "      <td>Dominique Ansel Bakery</td>\n",
       "      <td>5384</td>\n",
       "      <td>[{'alias': 'bakeries', 'title': 'Bakeries'}, {...</td>\n",
       "      <td>4.0</td>\n",
       "      <td>{'latitude': 40.72516, 'longitude': -74.00296}</td>\n",
       "      <td>$$</td>\n",
       "    </tr>\n",
       "    <tr>\n",
       "      <th>3</th>\n",
       "      <td>Angelina Bakery</td>\n",
       "      <td>609</td>\n",
       "      <td>[{'alias': 'bakeries', 'title': 'Bakeries'}, {...</td>\n",
       "      <td>4.5</td>\n",
       "      <td>{'latitude': 40.75498, 'longitude': -73.99166}</td>\n",
       "      <td>$$</td>\n",
       "    </tr>\n",
       "    <tr>\n",
       "      <th>4</th>\n",
       "      <td>L'Appartement 4F</td>\n",
       "      <td>181</td>\n",
       "      <td>[{'alias': 'bakeries', 'title': 'Bakeries'}]</td>\n",
       "      <td>4.0</td>\n",
       "      <td>{'latitude': 40.69521417249751, 'longitude': -...</td>\n",
       "      <td>$$</td>\n",
       "    </tr>\n",
       "  </tbody>\n",
       "</table>\n",
       "</div>"
      ],
      "text/plain": [
       "                     name  review_count  \\\n",
       "0         Michaeli Bakery           158   \n",
       "1      Mei Lai Wah Bakery          1735   \n",
       "2  Dominique Ansel Bakery          5384   \n",
       "3         Angelina Bakery           609   \n",
       "4        L'Appartement 4F           181   \n",
       "\n",
       "                                          categories  rating  \\\n",
       "0  [{'alias': 'bakeries', 'title': 'Bakeries'}, {...     5.0   \n",
       "1  [{'alias': 'bakeries', 'title': 'Bakeries'}, {...     4.0   \n",
       "2  [{'alias': 'bakeries', 'title': 'Bakeries'}, {...     4.0   \n",
       "3  [{'alias': 'bakeries', 'title': 'Bakeries'}, {...     4.5   \n",
       "4       [{'alias': 'bakeries', 'title': 'Bakeries'}]     4.0   \n",
       "\n",
       "                                         coordinates price  \n",
       "0   {'latitude': 40.714349, 'longitude': -73.992054}    $$  \n",
       "1  {'latitude': 40.7155758, 'longitude': -73.9979...     $  \n",
       "2     {'latitude': 40.72516, 'longitude': -74.00296}    $$  \n",
       "3     {'latitude': 40.75498, 'longitude': -73.99166}    $$  \n",
       "4  {'latitude': 40.69521417249751, 'longitude': -...    $$  "
      ]
     },
     "execution_count": 15,
     "metadata": {},
     "output_type": "execute_result"
    }
   ],
   "source": [
    "# Reading and inspection\n",
    "df1 = pd.read_csv('Resources/bake_nyc.csv')\n",
    "df2 = pd.read_csv('Resources/cake_nyc.csv')\n",
    "df3 = pd.read_csv('Resources/desserts_nyc.csv')\n",
    "df4 = pd.read_csv('Resources/donut_nyc.csv')\n",
    "df5 = pd.read_csv('Resources/patisserie_nyc.csv')\n",
    "df6 = pd.read_csv('Resources/viennoiserie_nyc.csv')\n",
    "master_df = pd.concat([df1, df2, df3, df4, df5, df6]).drop_duplicates()\n",
    "# Check status\n",
    "master_df['is_closed'].describe()\n",
    "# Create sublist\n",
    "master_df_sub = master_df[['name', 'review_count', 'categories', 'rating', 'coordinates', 'price']]\n",
    "master_df_sub.head()"
   ]
  },
  {
   "cell_type": "code",
   "execution_count": null,
   "id": "5890e69b",
   "metadata": {},
   "outputs": [],
   "source": [
    "# Selection and filtering"
   ]
  },
  {
   "cell_type": "code",
   "execution_count": null,
   "id": "39059a2f",
   "metadata": {},
   "outputs": [],
   "source": [
    "# Manipulation & Statistics\n",
    "# Convert price col to int"
   ]
  },
  {
   "cell_type": "code",
   "execution_count": 26,
   "id": "5a3774ca",
   "metadata": {},
   "outputs": [],
   "source": [
    "# Visualization"
   ]
  }
 ],
 "metadata": {
  "kernelspec": {
   "display_name": "Python 3 (ipykernel)",
   "language": "python",
   "name": "python3"
  },
  "language_info": {
   "codemirror_mode": {
    "name": "ipython",
    "version": 3
   },
   "file_extension": ".py",
   "mimetype": "text/x-python",
   "name": "python",
   "nbconvert_exporter": "python",
   "pygments_lexer": "ipython3",
   "version": "3.11.4"
  }
 },
 "nbformat": 4,
 "nbformat_minor": 5
}
