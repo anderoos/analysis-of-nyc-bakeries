{
 "cells": [
  {
   "cell_type": "markdown",
   "id": "fa505ade-d7e7-4782-aa16-8c4192b12d64",
   "metadata": {},
   "source": [
    "# What is the best place to open a moderately priced, fast casual asian dessert spot in NYC?\n",
    "### Considerations\n",
    "* Where are all bakeries primarily aggregated?\n",
    "* Using review count as a measure of success, does their price point affect the amount of reviews they recieve?\n",
    "* Does the number/type of categories these businesses put on their profile affect their review_count?\n",
    "* Integrate census data, how does median income affect these parameters?\n",
    "    * Business 'success' using review_count (see if I can find out information for how long they've been open, take the average rev/year)\n",
    "    * How income, price, success and location relate to eachother\n",
    "  "
   ]
  },
  {
   "cell_type": "code",
   "execution_count": 1,
   "id": "81cbde39",
   "metadata": {
    "ExecuteTime": {
     "end_time": "2023-10-20T17:16:19.352870Z",
     "start_time": "2023-10-20T17:16:19.351061Z"
    }
   },
   "outputs": [],
   "source": [
    "import numpy as np\n",
    "import pandas as pd\n",
    "from matplotlib import pyplot as plt\n",
    "import glob\n",
    "import re\n",
    "import seaborn as sns"
   ]
  },
  {
   "cell_type": "code",
   "execution_count": 2,
   "outputs": [
    {
     "data": {
      "text/plain": "                       id                            alias  \\\n0  epvSBt9LldIgyc08f8nIAw  la-bicyclette-bakery-brooklyn-4   \n1  -k_5NsYnKCHGTdBaqegkrw              le-fournil-new-york   \n2  0kW0112jMERVjpRzWT4F7Q  la-bicyclette-bakery-brooklyn-3   \n3  XSwagBljEsxG2i1rq4GEAQ        almondine-bakery-brooklyn   \n4  fPQ2eE9lm8tc87O5-GLjyA  mille-feuille-bakery-new-york-3   \n\n                   name                                          image_url  \\\n0  La Bicyclette Bakery  https://s3-media2.fl.yelpcdn.com/bphoto/aPBPM3...   \n1            Le Fournil  https://s3-media2.fl.yelpcdn.com/bphoto/JxNmFc...   \n2  La Bicyclette Bakery  https://s3-media3.fl.yelpcdn.com/bphoto/_qCjVd...   \n3      Almondine Bakery  https://s3-media2.fl.yelpcdn.com/bphoto/n_j7ya...   \n4  Mille-Feuille Bakery  https://s3-media1.fl.yelpcdn.com/bphoto/HHm3mm...   \n\n   is_closed                                                url  review_count  \\\n0      False  https://www.yelp.com/biz/la-bicyclette-bakery-...             3   \n1      False  https://www.yelp.com/biz/le-fournil-new-york?a...           118   \n2      False  https://www.yelp.com/biz/la-bicyclette-bakery-...            84   \n3      False  https://www.yelp.com/biz/almondine-bakery-broo...           404   \n4      False  https://www.yelp.com/biz/mille-feuille-bakery-...           441   \n\n                                          categories  rating  \\\n0       [{'alias': 'bakeries', 'title': 'Bakeries'}]     4.5   \n1       [{'alias': 'bakeries', 'title': 'Bakeries'}]     4.5   \n2       [{'alias': 'bakeries', 'title': 'Bakeries'}]     5.0   \n3       [{'alias': 'bakeries', 'title': 'Bakeries'}]     4.0   \n4  [{'alias': 'coffee', 'title': 'Coffee & Tea'},...     4.5   \n\n                                         coordinates            transactions  \\\n0  {'latitude': 40.68358704921419, 'longitude': -...                      []   \n1   {'latitude': 40.727947, 'longitude': -73.988489}            ['delivery']   \n2  {'latitude': 40.714400045936806, 'longitude': ...            ['delivery']   \n3  {'latitude': 40.7033174, 'longitude': -73.9912...            ['delivery']   \n4  {'latitude': 40.782425, 'longitude': -73.9811603}  ['delivery', 'pickup']   \n\n                                            location         phone  \\\n0  {'address1': '305 Court St', 'address2': '', '...           NaN   \n1  {'address1': '115 2nd Ave', 'address2': '', 'a...           NaN   \n2  {'address1': '667 Driggs Ave', 'address2': Non...  1.347916e+10   \n3  {'address1': '85 Water St', 'address2': None, ...  1.718798e+10   \n4  {'address1': '2175 Broadway', 'address2': '', ...  1.212363e+10   \n\n    display_phone     distance price  \n0             NaN  2431.404071   NaN  \n1             NaN  2548.470477    $$  \n2  (347) 916-1417  3128.240171   NaN  \n3  (718) 797-5026   348.916339    $$  \n4  (212) 362-6261  8630.996628    $$  ",
      "text/html": "<div>\n<style scoped>\n    .dataframe tbody tr th:only-of-type {\n        vertical-align: middle;\n    }\n\n    .dataframe tbody tr th {\n        vertical-align: top;\n    }\n\n    .dataframe thead th {\n        text-align: right;\n    }\n</style>\n<table border=\"1\" class=\"dataframe\">\n  <thead>\n    <tr style=\"text-align: right;\">\n      <th></th>\n      <th>id</th>\n      <th>alias</th>\n      <th>name</th>\n      <th>image_url</th>\n      <th>is_closed</th>\n      <th>url</th>\n      <th>review_count</th>\n      <th>categories</th>\n      <th>rating</th>\n      <th>coordinates</th>\n      <th>transactions</th>\n      <th>location</th>\n      <th>phone</th>\n      <th>display_phone</th>\n      <th>distance</th>\n      <th>price</th>\n    </tr>\n  </thead>\n  <tbody>\n    <tr>\n      <th>0</th>\n      <td>epvSBt9LldIgyc08f8nIAw</td>\n      <td>la-bicyclette-bakery-brooklyn-4</td>\n      <td>La Bicyclette Bakery</td>\n      <td>https://s3-media2.fl.yelpcdn.com/bphoto/aPBPM3...</td>\n      <td>False</td>\n      <td>https://www.yelp.com/biz/la-bicyclette-bakery-...</td>\n      <td>3</td>\n      <td>[{'alias': 'bakeries', 'title': 'Bakeries'}]</td>\n      <td>4.5</td>\n      <td>{'latitude': 40.68358704921419, 'longitude': -...</td>\n      <td>[]</td>\n      <td>{'address1': '305 Court St', 'address2': '', '...</td>\n      <td>NaN</td>\n      <td>NaN</td>\n      <td>2431.404071</td>\n      <td>NaN</td>\n    </tr>\n    <tr>\n      <th>1</th>\n      <td>-k_5NsYnKCHGTdBaqegkrw</td>\n      <td>le-fournil-new-york</td>\n      <td>Le Fournil</td>\n      <td>https://s3-media2.fl.yelpcdn.com/bphoto/JxNmFc...</td>\n      <td>False</td>\n      <td>https://www.yelp.com/biz/le-fournil-new-york?a...</td>\n      <td>118</td>\n      <td>[{'alias': 'bakeries', 'title': 'Bakeries'}]</td>\n      <td>4.5</td>\n      <td>{'latitude': 40.727947, 'longitude': -73.988489}</td>\n      <td>['delivery']</td>\n      <td>{'address1': '115 2nd Ave', 'address2': '', 'a...</td>\n      <td>NaN</td>\n      <td>NaN</td>\n      <td>2548.470477</td>\n      <td>$$</td>\n    </tr>\n    <tr>\n      <th>2</th>\n      <td>0kW0112jMERVjpRzWT4F7Q</td>\n      <td>la-bicyclette-bakery-brooklyn-3</td>\n      <td>La Bicyclette Bakery</td>\n      <td>https://s3-media3.fl.yelpcdn.com/bphoto/_qCjVd...</td>\n      <td>False</td>\n      <td>https://www.yelp.com/biz/la-bicyclette-bakery-...</td>\n      <td>84</td>\n      <td>[{'alias': 'bakeries', 'title': 'Bakeries'}]</td>\n      <td>5.0</td>\n      <td>{'latitude': 40.714400045936806, 'longitude': ...</td>\n      <td>['delivery']</td>\n      <td>{'address1': '667 Driggs Ave', 'address2': Non...</td>\n      <td>1.347916e+10</td>\n      <td>(347) 916-1417</td>\n      <td>3128.240171</td>\n      <td>NaN</td>\n    </tr>\n    <tr>\n      <th>3</th>\n      <td>XSwagBljEsxG2i1rq4GEAQ</td>\n      <td>almondine-bakery-brooklyn</td>\n      <td>Almondine Bakery</td>\n      <td>https://s3-media2.fl.yelpcdn.com/bphoto/n_j7ya...</td>\n      <td>False</td>\n      <td>https://www.yelp.com/biz/almondine-bakery-broo...</td>\n      <td>404</td>\n      <td>[{'alias': 'bakeries', 'title': 'Bakeries'}]</td>\n      <td>4.0</td>\n      <td>{'latitude': 40.7033174, 'longitude': -73.9912...</td>\n      <td>['delivery']</td>\n      <td>{'address1': '85 Water St', 'address2': None, ...</td>\n      <td>1.718798e+10</td>\n      <td>(718) 797-5026</td>\n      <td>348.916339</td>\n      <td>$$</td>\n    </tr>\n    <tr>\n      <th>4</th>\n      <td>fPQ2eE9lm8tc87O5-GLjyA</td>\n      <td>mille-feuille-bakery-new-york-3</td>\n      <td>Mille-Feuille Bakery</td>\n      <td>https://s3-media1.fl.yelpcdn.com/bphoto/HHm3mm...</td>\n      <td>False</td>\n      <td>https://www.yelp.com/biz/mille-feuille-bakery-...</td>\n      <td>441</td>\n      <td>[{'alias': 'coffee', 'title': 'Coffee &amp; Tea'},...</td>\n      <td>4.5</td>\n      <td>{'latitude': 40.782425, 'longitude': -73.9811603}</td>\n      <td>['delivery', 'pickup']</td>\n      <td>{'address1': '2175 Broadway', 'address2': '', ...</td>\n      <td>1.212363e+10</td>\n      <td>(212) 362-6261</td>\n      <td>8630.996628</td>\n      <td>$$</td>\n    </tr>\n  </tbody>\n</table>\n</div>"
     },
     "execution_count": 2,
     "metadata": {},
     "output_type": "execute_result"
    }
   ],
   "source": [
    "# Importing dataframes\n",
    "dataframes = []\n",
    "for file in glob.glob('Resources/*.csv'):\n",
    "    dataframes.append(pd.read_csv(file))\n",
    "\n",
    "# Concatenate dataframes\n",
    "df_main = pd.concat(dataframes, ignore_index=True)\n",
    "df_main.head()"
   ],
   "metadata": {
    "collapsed": false,
    "ExecuteTime": {
     "end_time": "2023-10-20T17:16:19.420853Z",
     "start_time": "2023-10-20T17:16:19.353701Z"
    }
   },
   "id": "1dfea28d1710181f"
  },
  {
   "cell_type": "code",
   "execution_count": 3,
   "id": "d9d05997-224e-4857-908a-8c568dc7af8b",
   "metadata": {
    "ExecuteTime": {
     "end_time": "2023-10-20T17:16:19.421203Z",
     "start_time": "2023-10-20T17:16:19.416195Z"
    }
   },
   "outputs": [
    {
     "data": {
      "text/plain": "                   name  review_count  \\\n0  La Bicyclette Bakery             3   \n1            Le Fournil           118   \n2  La Bicyclette Bakery            84   \n3      Almondine Bakery           404   \n4  Mille-Feuille Bakery           441   \n\n                                          categories  rating  \\\n0       [{'alias': 'bakeries', 'title': 'Bakeries'}]     4.5   \n1       [{'alias': 'bakeries', 'title': 'Bakeries'}]     4.5   \n2       [{'alias': 'bakeries', 'title': 'Bakeries'}]     5.0   \n3       [{'alias': 'bakeries', 'title': 'Bakeries'}]     4.0   \n4  [{'alias': 'coffee', 'title': 'Coffee & Tea'},...     4.5   \n\n                                         coordinates price  \n0  {'latitude': 40.68358704921419, 'longitude': -...   NaN  \n1   {'latitude': 40.727947, 'longitude': -73.988489}    $$  \n2  {'latitude': 40.714400045936806, 'longitude': ...   NaN  \n3  {'latitude': 40.7033174, 'longitude': -73.9912...    $$  \n4  {'latitude': 40.782425, 'longitude': -73.9811603}    $$  ",
      "text/html": "<div>\n<style scoped>\n    .dataframe tbody tr th:only-of-type {\n        vertical-align: middle;\n    }\n\n    .dataframe tbody tr th {\n        vertical-align: top;\n    }\n\n    .dataframe thead th {\n        text-align: right;\n    }\n</style>\n<table border=\"1\" class=\"dataframe\">\n  <thead>\n    <tr style=\"text-align: right;\">\n      <th></th>\n      <th>name</th>\n      <th>review_count</th>\n      <th>categories</th>\n      <th>rating</th>\n      <th>coordinates</th>\n      <th>price</th>\n    </tr>\n  </thead>\n  <tbody>\n    <tr>\n      <th>0</th>\n      <td>La Bicyclette Bakery</td>\n      <td>3</td>\n      <td>[{'alias': 'bakeries', 'title': 'Bakeries'}]</td>\n      <td>4.5</td>\n      <td>{'latitude': 40.68358704921419, 'longitude': -...</td>\n      <td>NaN</td>\n    </tr>\n    <tr>\n      <th>1</th>\n      <td>Le Fournil</td>\n      <td>118</td>\n      <td>[{'alias': 'bakeries', 'title': 'Bakeries'}]</td>\n      <td>4.5</td>\n      <td>{'latitude': 40.727947, 'longitude': -73.988489}</td>\n      <td>$$</td>\n    </tr>\n    <tr>\n      <th>2</th>\n      <td>La Bicyclette Bakery</td>\n      <td>84</td>\n      <td>[{'alias': 'bakeries', 'title': 'Bakeries'}]</td>\n      <td>5.0</td>\n      <td>{'latitude': 40.714400045936806, 'longitude': ...</td>\n      <td>NaN</td>\n    </tr>\n    <tr>\n      <th>3</th>\n      <td>Almondine Bakery</td>\n      <td>404</td>\n      <td>[{'alias': 'bakeries', 'title': 'Bakeries'}]</td>\n      <td>4.0</td>\n      <td>{'latitude': 40.7033174, 'longitude': -73.9912...</td>\n      <td>$$</td>\n    </tr>\n    <tr>\n      <th>4</th>\n      <td>Mille-Feuille Bakery</td>\n      <td>441</td>\n      <td>[{'alias': 'coffee', 'title': 'Coffee &amp; Tea'},...</td>\n      <td>4.5</td>\n      <td>{'latitude': 40.782425, 'longitude': -73.9811603}</td>\n      <td>$$</td>\n    </tr>\n  </tbody>\n</table>\n</div>"
     },
     "execution_count": 3,
     "metadata": {},
     "output_type": "execute_result"
    }
   ],
   "source": [
    "# Create sublist\n",
    "master_df_sub = df_main[['name', 'review_count', 'categories', 'rating', 'coordinates', 'price']]\n",
    "master_df_sub.head()"
   ]
  },
  {
   "cell_type": "code",
   "execution_count": 4,
   "id": "0e59fa4c-6e56-490b-8fc0-9fda75b50306",
   "metadata": {
    "ExecuteTime": {
     "end_time": "2023-10-20T17:16:19.599358Z",
     "start_time": "2023-10-20T17:16:19.434920Z"
    }
   },
   "outputs": [
    {
     "data": {
      "text/plain": "                      name  review_count  \\\n0     La Bicyclette Bakery             3   \n1               Le Fournil           118   \n2     La Bicyclette Bakery            84   \n3         Almondine Bakery           404   \n4     Mille-Feuille Bakery           441   \n...                    ...           ...   \n5093       D'Orsi's Bakery            55   \n5094            Loqma Cafe            20   \n5095             Scarpetta          2264   \n5096     Miss American Pie           112   \n5097         Shui Mei Cafe            50   \n\n                                             categories  rating  \\\n0                                   bakeries,  Bakeries     4.5   \n1                                   bakeries,  Bakeries     4.5   \n2                                   bakeries,  Bakeries     5.0   \n3                                   bakeries,  Bakeries     4.0   \n4           coffee,  Coffee & Tea,  bakeries,  Bakeries     4.5   \n...                                                 ...     ...   \n5093          catering,  Caterers,  bakeries,  Bakeries     4.0   \n5094   turkish,  Turkish,  cafes,  Cafes,  seafood, ...     3.5   \n5095   italian,  Italian,  bars,  Bars,  desserts,  ...     4.0   \n5096   bakeries,  Bakeries,  desserts,  Desserts,  c...     5.0   \n5097                  cafes,  Cafes,  chinese,  Chinese     4.5   \n\n                                   coordinates price  \n0       40.68358704921419,  -73.99509019999999   NaN  \n1                       40.727947,  -73.988489    $$  \n2      40.714400045936806,  -73.95911000669003   NaN  \n3                     40.7033174,  -73.9912506    $$  \n4                      40.782425,  -73.9811603    $$  \n...                                        ...   ...  \n5093                    40.56669,  -74.2519499    $$  \n5094                    40.585861,  -73.953604    $$  \n5095                      40.744509,  -73.9856   $$$  \n5096                      40.68049,  -73.97785   NaN  \n5097                  40.7135318,  -73.9948386     $  \n\n[5098 rows x 6 columns]",
      "text/html": "<div>\n<style scoped>\n    .dataframe tbody tr th:only-of-type {\n        vertical-align: middle;\n    }\n\n    .dataframe tbody tr th {\n        vertical-align: top;\n    }\n\n    .dataframe thead th {\n        text-align: right;\n    }\n</style>\n<table border=\"1\" class=\"dataframe\">\n  <thead>\n    <tr style=\"text-align: right;\">\n      <th></th>\n      <th>name</th>\n      <th>review_count</th>\n      <th>categories</th>\n      <th>rating</th>\n      <th>coordinates</th>\n      <th>price</th>\n    </tr>\n  </thead>\n  <tbody>\n    <tr>\n      <th>0</th>\n      <td>La Bicyclette Bakery</td>\n      <td>3</td>\n      <td>bakeries,  Bakeries</td>\n      <td>4.5</td>\n      <td>40.68358704921419,  -73.99509019999999</td>\n      <td>NaN</td>\n    </tr>\n    <tr>\n      <th>1</th>\n      <td>Le Fournil</td>\n      <td>118</td>\n      <td>bakeries,  Bakeries</td>\n      <td>4.5</td>\n      <td>40.727947,  -73.988489</td>\n      <td>$$</td>\n    </tr>\n    <tr>\n      <th>2</th>\n      <td>La Bicyclette Bakery</td>\n      <td>84</td>\n      <td>bakeries,  Bakeries</td>\n      <td>5.0</td>\n      <td>40.714400045936806,  -73.95911000669003</td>\n      <td>NaN</td>\n    </tr>\n    <tr>\n      <th>3</th>\n      <td>Almondine Bakery</td>\n      <td>404</td>\n      <td>bakeries,  Bakeries</td>\n      <td>4.0</td>\n      <td>40.7033174,  -73.9912506</td>\n      <td>$$</td>\n    </tr>\n    <tr>\n      <th>4</th>\n      <td>Mille-Feuille Bakery</td>\n      <td>441</td>\n      <td>coffee,  Coffee &amp; Tea,  bakeries,  Bakeries</td>\n      <td>4.5</td>\n      <td>40.782425,  -73.9811603</td>\n      <td>$$</td>\n    </tr>\n    <tr>\n      <th>...</th>\n      <td>...</td>\n      <td>...</td>\n      <td>...</td>\n      <td>...</td>\n      <td>...</td>\n      <td>...</td>\n    </tr>\n    <tr>\n      <th>5093</th>\n      <td>D'Orsi's Bakery</td>\n      <td>55</td>\n      <td>catering,  Caterers,  bakeries,  Bakeries</td>\n      <td>4.0</td>\n      <td>40.56669,  -74.2519499</td>\n      <td>$$</td>\n    </tr>\n    <tr>\n      <th>5094</th>\n      <td>Loqma Cafe</td>\n      <td>20</td>\n      <td>turkish,  Turkish,  cafes,  Cafes,  seafood, ...</td>\n      <td>3.5</td>\n      <td>40.585861,  -73.953604</td>\n      <td>$$</td>\n    </tr>\n    <tr>\n      <th>5095</th>\n      <td>Scarpetta</td>\n      <td>2264</td>\n      <td>italian,  Italian,  bars,  Bars,  desserts,  ...</td>\n      <td>4.0</td>\n      <td>40.744509,  -73.9856</td>\n      <td>$$$</td>\n    </tr>\n    <tr>\n      <th>5096</th>\n      <td>Miss American Pie</td>\n      <td>112</td>\n      <td>bakeries,  Bakeries,  desserts,  Desserts,  c...</td>\n      <td>5.0</td>\n      <td>40.68049,  -73.97785</td>\n      <td>NaN</td>\n    </tr>\n    <tr>\n      <th>5097</th>\n      <td>Shui Mei Cafe</td>\n      <td>50</td>\n      <td>cafes,  Cafes,  chinese,  Chinese</td>\n      <td>4.5</td>\n      <td>40.7135318,  -73.9948386</td>\n      <td>$</td>\n    </tr>\n  </tbody>\n</table>\n<p>5098 rows × 6 columns</p>\n</div>"
     },
     "execution_count": 4,
     "metadata": {},
     "output_type": "execute_result"
    }
   ],
   "source": [
    "# Cleaning function\n",
    "chars_to_remove = ['[', '{', '\\'', 'alias', 'title', 'latitude', 'longitude', \"}\", \":\", \"}\", \"]\"]\n",
    "col_list = ['categories', 'coordinates']\n",
    "def string_cleaner(df, col_list, char_list):\n",
    "    for item in char_list:\n",
    "        for col in col_list:\n",
    "            df.loc[:, col] = df[col].str.replace(item, \"\", case=False)\n",
    "    return df\n",
    "\n",
    "string_cleaner(string_cleaner(master_df_sub, col_list, chars_to_remove), col_list, chars_to_remove)"
   ]
  },
  {
   "cell_type": "code",
   "execution_count": 5,
   "id": "cc0c6513-680a-41f7-abe3-860f8d8dc3a9",
   "metadata": {
    "ExecuteTime": {
     "end_time": "2023-10-20T17:16:19.599539Z",
     "start_time": "2023-10-20T17:16:19.535496Z"
    }
   },
   "outputs": [],
   "source": [
    "# Cleaning duplicate aliases by split and delete\n",
    "def remove_alias(df, column):\n",
    "    new_df = df[column].str.split(pat=', ', expand=True)\n",
    "    new_df = new_df.drop(labels=range(0, 8, 2), axis=1)\n",
    "    df = df.drop(column, axis=1)\n",
    "    df = pd.concat([df, new_df], axis=1)\n",
    "    return df\n",
    "\n",
    "master_df_sub = remove_alias(master_df_sub, 'categories')"
   ]
  },
  {
   "cell_type": "code",
   "execution_count": 6,
   "id": "18337814-c8d7-4295-9e6a-bacb83d5bed3",
   "metadata": {
    "ExecuteTime": {
     "end_time": "2023-10-20T17:16:19.599887Z",
     "start_time": "2023-10-20T17:16:19.540825Z"
    }
   },
   "outputs": [
    {
     "data": {
      "text/plain": "                   name  review_count  rating price           cat1       cat2  \\\n0  La Bicyclette Bakery             3     4.5   NaN       Bakeries       None   \n1            Le Fournil           118     4.5    $$       Bakeries       None   \n2  La Bicyclette Bakery            84     5.0   NaN       Bakeries       None   \n3      Almondine Bakery           404     4.0    $$       Bakeries       None   \n4  Mille-Feuille Bakery           441     4.5    $$   Coffee & Tea   Bakeries   \n\n   cat3  cat4            coord_lat           coord_long  \n0  None  None    40.68358704921419   -73.99509019999999  \n1  None  None            40.727947           -73.988489  \n2  None  None   40.714400045936806   -73.95911000669003  \n3  None  None           40.7033174          -73.9912506  \n4  None  None            40.782425          -73.9811603  ",
      "text/html": "<div>\n<style scoped>\n    .dataframe tbody tr th:only-of-type {\n        vertical-align: middle;\n    }\n\n    .dataframe tbody tr th {\n        vertical-align: top;\n    }\n\n    .dataframe thead th {\n        text-align: right;\n    }\n</style>\n<table border=\"1\" class=\"dataframe\">\n  <thead>\n    <tr style=\"text-align: right;\">\n      <th></th>\n      <th>name</th>\n      <th>review_count</th>\n      <th>rating</th>\n      <th>price</th>\n      <th>cat1</th>\n      <th>cat2</th>\n      <th>cat3</th>\n      <th>cat4</th>\n      <th>coord_lat</th>\n      <th>coord_long</th>\n    </tr>\n  </thead>\n  <tbody>\n    <tr>\n      <th>0</th>\n      <td>La Bicyclette Bakery</td>\n      <td>3</td>\n      <td>4.5</td>\n      <td>NaN</td>\n      <td>Bakeries</td>\n      <td>None</td>\n      <td>None</td>\n      <td>None</td>\n      <td>40.68358704921419</td>\n      <td>-73.99509019999999</td>\n    </tr>\n    <tr>\n      <th>1</th>\n      <td>Le Fournil</td>\n      <td>118</td>\n      <td>4.5</td>\n      <td>$$</td>\n      <td>Bakeries</td>\n      <td>None</td>\n      <td>None</td>\n      <td>None</td>\n      <td>40.727947</td>\n      <td>-73.988489</td>\n    </tr>\n    <tr>\n      <th>2</th>\n      <td>La Bicyclette Bakery</td>\n      <td>84</td>\n      <td>5.0</td>\n      <td>NaN</td>\n      <td>Bakeries</td>\n      <td>None</td>\n      <td>None</td>\n      <td>None</td>\n      <td>40.714400045936806</td>\n      <td>-73.95911000669003</td>\n    </tr>\n    <tr>\n      <th>3</th>\n      <td>Almondine Bakery</td>\n      <td>404</td>\n      <td>4.0</td>\n      <td>$$</td>\n      <td>Bakeries</td>\n      <td>None</td>\n      <td>None</td>\n      <td>None</td>\n      <td>40.7033174</td>\n      <td>-73.9912506</td>\n    </tr>\n    <tr>\n      <th>4</th>\n      <td>Mille-Feuille Bakery</td>\n      <td>441</td>\n      <td>4.5</td>\n      <td>$$</td>\n      <td>Coffee &amp; Tea</td>\n      <td>Bakeries</td>\n      <td>None</td>\n      <td>None</td>\n      <td>40.782425</td>\n      <td>-73.9811603</td>\n    </tr>\n  </tbody>\n</table>\n</div>"
     },
     "execution_count": 6,
     "metadata": {},
     "output_type": "execute_result"
    }
   ],
   "source": [
    "# Split Coordinates & rename columns\n",
    "master_df_sub[['coord_lat', 'coord_long']] = master_df_sub['coordinates'].str.split(pat=', ', expand=True)\n",
    "master_df_sub = master_df_sub.drop('coordinates', axis=1)\n",
    "master_df_sub.columns = ['name', 'review_count', 'rating', 'price', 'cat1', 'cat2', 'cat3','cat4', 'coord_lat', 'coord_long']\n",
    "master_df_sub.head()"
   ]
  },
  {
   "cell_type": "code",
   "execution_count": 7,
   "id": "39059a2f",
   "metadata": {
    "ExecuteTime": {
     "end_time": "2023-10-20T17:16:19.600003Z",
     "start_time": "2023-10-20T17:16:19.550270Z"
    }
   },
   "outputs": [],
   "source": [
    "# Manipulation & Statistics\n",
    "# Convert price col to int"
   ]
  },
  {
   "cell_type": "code",
   "execution_count": 8,
   "id": "5a3774ca",
   "metadata": {
    "ExecuteTime": {
     "end_time": "2023-10-20T17:16:19.600089Z",
     "start_time": "2023-10-20T17:16:19.552586Z"
    }
   },
   "outputs": [],
   "source": [
    "# Visualization"
   ]
  }
 ],
 "metadata": {
  "kernelspec": {
   "display_name": "Python 3 (ipykernel)",
   "language": "python",
   "name": "python3"
  },
  "language_info": {
   "codemirror_mode": {
    "name": "ipython",
    "version": 3
   },
   "file_extension": ".py",
   "mimetype": "text/x-python",
   "name": "python",
   "nbconvert_exporter": "python",
   "pygments_lexer": "ipython3",
   "version": "3.11.5"
  }
 },
 "nbformat": 4,
 "nbformat_minor": 5
}
